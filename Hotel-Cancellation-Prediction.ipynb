{
 "cells": [
  {
   "cell_type": "markdown",
   "id": "1bce72b8",
   "metadata": {},
   "source": [
    "## Importing Libraries"
   ]
  },
  {
   "cell_type": "code",
   "id": "c6b07031",
   "metadata": {
    "jupyter": {
     "is_executing": true
    }
   },
   "source": [
    "%pip install pandas numpy matplotlib seaborn scikit-learn statsmodels gradio"
   ],
   "outputs": [],
   "execution_count": null
  },
  {
   "cell_type": "code",
   "execution_count": 7,
   "id": "c5fb29fb",
   "metadata": {},
   "outputs": [],
   "source": [
    "# Libraries read and manipulate data\n",
    "import pandas as pd\n",
    "import numpy as np\n",
    "\n",
    "# libraries for data visualization\n",
    "import matplotlib as plot\n",
    "import seaborn as sns\n",
    "\n",
    "import os\n",
    "import joblib\n",
    "import gradio as gr\n",
    "\n",
    "# remove limit on number of displayed columns\n",
    "pd.set_option(\"display.max_columns\", None)\n",
    "# set limit on displayed rows\n",
    "pd.set_option(\"display.max_rows\", 200)\n",
    "# set the float numbers to 2 decimal points\n",
    "pd.set_option(\"display.float_format\", lambda x: \"%.2f\" % x)\n",
    "\n",
    "# library to split data\n",
    "from sklearn.model_selection import train_test_split\n",
    "\n",
    "# library to tune Model\n",
    "from sklearn.metrics import (\n",
    "    accuracy_score,\n",
    "    recall_score,\n",
    "    f1_score,\n",
    "    make_scorer,\n",
    "    precision_score,\n",
    "    confusion_matrix,\n",
    "    roc_auc_score,\n",
    "    ConfusionMatrixDisplay\n",
    ")"
   ]
  },
  {
   "cell_type": "markdown",
   "id": "3f1f2f5d",
   "metadata": {},
   "source": [
    "## Loading Dataset"
   ]
  },
  {
   "cell_type": "code",
   "id": "0d15c933",
   "metadata": {
    "jupyter": {
     "is_executing": true
    }
   },
   "source": [
    "path = \"./data/Hotel Reservations.csv\"\n",
    "hotel = pd.read_csv(path)\n",
    "\n",
    "hotel.sample(10, random_state=40)"
   ],
   "outputs": [],
   "execution_count": null
  }
 ],
 "metadata": {
  "kernelspec": {
   "display_name": ".venv",
   "language": "python",
   "name": "python3"
  },
  "language_info": {
   "codemirror_mode": {
    "name": "ipython",
    "version": 3
   },
   "file_extension": ".py",
   "mimetype": "text/x-python",
   "name": "python",
   "nbconvert_exporter": "python",
   "pygments_lexer": "ipython3",
   "version": "3.12.6"
  }
 },
 "nbformat": 4,
 "nbformat_minor": 5
}
